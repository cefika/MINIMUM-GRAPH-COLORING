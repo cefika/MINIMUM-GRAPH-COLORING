{
 "cells": [
  {
   "cell_type": "code",
   "execution_count": 2,
   "id": "5205b896-008e-40ee-bd02-c95c732f89f8",
   "metadata": {},
   "outputs": [],
   "source": [
    "import networkx as nx\n",
    "import matplotlib.pyplot as plt\n",
    "import time\n",
    "import os\n",
    "from itertools import product\n",
    "import re\n",
    "import random"
   ]
  },
  {
   "cell_type": "code",
   "execution_count": 3,
   "id": "98917742-e59b-4d48-bd97-2029a61b8857",
   "metadata": {},
   "outputs": [],
   "source": [
    "def neighbor_edges_of_node(graph, node):\n",
    "    neighbor_edges = []\n",
    "    for edge in graph.edges():\n",
    "        if node in edge:\n",
    "            neighbor_edges.append(edge)\n",
    "    return neighbor_edges"
   ]
  },
  {
   "cell_type": "code",
   "execution_count": 4,
   "id": "f8b62076-edef-42cf-a84f-e72feb41abc8",
   "metadata": {},
   "outputs": [],
   "source": [
    "def is_valid_coloring(graph, coloring):\n",
    "    edge_color = {edge: coloring[i] for i, edge in enumerate(graph.edges())}\n",
    "    \n",
    "    for edge in graph.edges():\n",
    "        u, v = edge\n",
    "        \n",
    "        u_edges = neighbor_edges_of_node(graph, u)\n",
    "        v_edges = neighbor_edges_of_node(graph, v)\n",
    "\n",
    "        u_edges.remove(edge)\n",
    "        v_edges.remove(edge)\n",
    "        \n",
    "        for i in range(len(u_edges)):\n",
    "            if edge_color[u_edges[i]] == edge_color[edge]:\n",
    "                return False\n",
    "        \n",
    "        for j in range(len(v_edges)):  \n",
    "            if edge_color[v_edges[j]] == edge_color[edge]:\n",
    "                return False\n",
    "    return True"
   ]
  },
  {
   "cell_type": "code",
   "execution_count": 5,
   "id": "5d52057d-bfae-4ae0-af8a-885c7785a8b6",
   "metadata": {},
   "outputs": [],
   "source": [
    "def read_graph_from_file(filename):\n",
    "    with open(filename, 'r') as file:\n",
    "        lines = file.readlines()\n",
    "        num_nodes, num_edges = map(int, lines[0].split()[2:])  # extractiong num_nodes and num_edges\n",
    "        edges = [tuple(map(int, line.split()[1:])) for line in lines[1:] if line.startswith('e')]\n",
    "        graph = nx.Graph()\n",
    "        graph.add_nodes_from(range(1, num_nodes + 1))\n",
    "        graph.add_edges_from(edges)\n",
    "        \n",
    "        return graph"
   ]
  },
  {
   "cell_type": "code",
   "execution_count": 6,
   "id": "113ce6ea-e4ce-40e4-a89b-9d5899b7a061",
   "metadata": {},
   "outputs": [],
   "source": [
    "def draw_colored_graph(graph, coloring):    \n",
    "    nx.draw(graph, with_labels=True, edge_color=coloring)\n",
    "    plt.show()"
   ]
  },
  {
   "cell_type": "code",
   "execution_count": 7,
   "id": "6962f9cd-61d9-411b-986d-485848209da2",
   "metadata": {},
   "outputs": [],
   "source": [
    "def write_output(graph, test_name, coloring_result, iter, start_time, end_time):\n",
    "\n",
    "    print(coloring_result)\n",
    "    with open('./results/ga_results.txt', 'a') as result_file:\n",
    "        result_file.write(f\"Test Name: {test_name}\\n\")\n",
    "        result_file.write(\"Result: \")\n",
    "        \n",
    "        if coloring_result == -1:\n",
    "            result_file.write(\"Time limit exceeded.\\n\")\n",
    "            print(\"Time limit exceeded.\\n\")\n",
    "        else:\n",
    "            if coloring_result:\n",
    "                result_file.write(\"Minimum edge coloring found.\\n\")\n",
    "                result_file.write(f\"Number of colors: {len(set(coloring_result))}\\n\")\n",
    "                result_file.write(f\"Number of iterations: {iter}\\n\")\n",
    "\n",
    "                print(\"Minimum edge coloring found.\")\n",
    "                print(\"Number of colors:\", len(set(coloring_result)))  \n",
    "                print(\"Number of iterations:\", iter)\n",
    "                draw_colored_graph(graph, coloring_result)\n",
    "                plt.close() \n",
    "            else:\n",
    "                result_file.write(\"No solution found.\\n\")\n",
    "                print(\"No solution found.\\n\") \n",
    "\n",
    "        time_taken = end_time - start_time\n",
    "\n",
    "        result_file.write(f\"Time taken (seconds): {time_taken}\\n\")\n",
    "        print(\"Time taken:\", time_taken, \"seconds\\n\")    \n",
    "        result_file.write(\"\\n\")"
   ]
  },
  {
   "cell_type": "code",
   "execution_count": 8,
   "id": "823c24e1-cff8-4025-bbb3-ffd2fd8a5514",
   "metadata": {},
   "outputs": [],
   "source": [
    "def numerical_sort(value):\n",
    "    parts = re.split(r'(\\d+)', value)\n",
    "    parts = [int(part) if part.isdigit() else part for part in parts]\n",
    "    return parts"
   ]
  },
  {
   "cell_type": "code",
   "execution_count": 9,
   "id": "91210fab-ee66-4f60-8419-8a1fdf1ca3c5",
   "metadata": {},
   "outputs": [],
   "source": [
    "def is_feasible(solution):\n",
    "    return any(solution)"
   ]
  },
  {
   "cell_type": "code",
   "execution_count": 10,
   "id": "b58b22d0-462d-4693-b0eb-a2d46961e590",
   "metadata": {},
   "outputs": [],
   "source": [
    "class Individual:\n",
    "    def __init__(self, graph):\n",
    "        self.graph = graph  \n",
    "        self.num_of_edges = len(graph.edges())\n",
    "        self.coloring = [random.randrange(1, len(graph.edges())) for _ in range(len(graph.edges()))]\n",
    "        self.fitness = self.calc_fitness()  \n",
    "\n",
    "    \n",
    "    def calc_fitness(self):\n",
    "        graph = self.graph\n",
    "        edge_color = {edge: self.coloring[i] for i, edge in enumerate(graph.edges())}\n",
    "        num = 0\n",
    "    \n",
    "        for edge in graph.edges():\n",
    "            indicator = True\n",
    "    \n",
    "            u, v = edge\n",
    "            \n",
    "            u_edges = neighbor_edges_of_node(graph, u)\n",
    "            v_edges = neighbor_edges_of_node(graph, v)\n",
    "    \n",
    "            u_edges.remove(edge)\n",
    "            v_edges.remove(edge)\n",
    "            \n",
    "            for i in range(len(u_edges)):\n",
    "                if edge_color[u_edges[i]] == edge_color[edge]:\n",
    "                    indicator = False\n",
    "            \n",
    "            for j in range(len(v_edges)):  \n",
    "                if edge_color[v_edges[j]] == edge_color[edge]:\n",
    "                    indicator = False\n",
    "    \n",
    "            if indicator:\n",
    "                num += 1\n",
    "\n",
    "        return num\n"
   ]
  },
  {
   "cell_type": "code",
   "execution_count": 11,
   "id": "4fcb7640-8634-43ed-aef0-1127e0697017",
   "metadata": {},
   "outputs": [],
   "source": [
    "def selection(population, tournament_size):\n",
    "    chosen = random.sample(population, tournament_size)\n",
    "    return max(chosen, key=lambda x: x.fitness)"
   ]
  },
  {
   "cell_type": "code",
   "execution_count": 12,
   "id": "87e0b9dd-07e9-49d9-b227-ef189acb8089",
   "metadata": {},
   "outputs": [],
   "source": [
    "def crossover(parent1, parent2, child1, child2):\n",
    "    random_pos = random.randrange(0, len(parent1.coloring))\n",
    "    \n",
    "    child1.coloring[:random_pos] = parent1.coloring[:random_pos]\n",
    "    child1.coloring[random_pos:] = parent2.coloring[random_pos:]\n",
    "    \n",
    "    child2.coloring[:random_pos] = parent2.coloring[:random_pos]\n",
    "    child2.coloring[random_pos:] = parent1.coloring[random_pos:]"
   ]
  },
  {
   "cell_type": "code",
   "execution_count": 13,
   "id": "c82c2244-5b55-4fd8-b0cb-e3fe93f6c278",
   "metadata": {},
   "outputs": [],
   "source": [
    "def mutation(individual, mutation_prob):\n",
    "    for i in range(len(individual.coloring)):\n",
    "        if random.random() < mutation_prob:\n",
    "            new_color = random.randrange(1, individual.num_of_edges + 1)\n",
    "            while new_color == individual.coloring[i]:\n",
    "                new_color = random.randrange(1, individual.num_of_edges + 1)\n",
    "            individual.coloring[i] = new_color"
   ]
  },
  {
   "cell_type": "code",
   "execution_count": 14,
   "id": "624420d1-9431-4d67-91a5-834f02cbb670",
   "metadata": {},
   "outputs": [],
   "source": [
    "def genetic_algorithm(graph, population_size, num_generations, tournament_size, elitism_size, mutation_prob):\n",
    "\n",
    "    population = [Individual(graph) for _ in range(population_size)]\n",
    "    new_population = population.copy()\n",
    "\n",
    "    for i in range(num_generations):\n",
    "        population.sort(key=lambda x: x.fitness, reverse=True)\n",
    "        new_population[:elitism_size] = population[:elitism_size]\n",
    "        \n",
    "        for j in range(elitism_size, population_size, 2):\n",
    "            parent1 = selection(population, tournament_size)\n",
    "            parent2 = selection(population, tournament_size) \n",
    "            \n",
    "            crossover(parent1, parent2, child1=new_population[j], child2=new_population[j+1])\n",
    "\n",
    "            mutation(new_population[j], mutation_prob)\n",
    "            mutation(new_population[j+1], mutation_prob)\n",
    "            \n",
    "            new_population[j].fitness = new_population[j].calc_fitness()\n",
    "            new_population[j+1].fitness = new_population[j+1].calc_fitness()\n",
    "        \n",
    "        population = new_population.copy()\n",
    "        \n",
    "        best_individual = max(population, key=lambda x: x.fitness)\n",
    "\n",
    "        idx = population.index(best_individual)\n",
    "\n",
    "    if is_valid_coloring(graph, best_individual.coloring):\n",
    "        idx = population.index(best_individual)\n",
    "        return best_individual, idx\n",
    "    else:\n",
    "        return -100, -100\n"
   ]
  },
  {
   "cell_type": "code",
   "execution_count": 15,
   "id": "df975f97-5670-41b7-99bf-3d2fa0c5efe1",
   "metadata": {},
   "outputs": [],
   "source": [
    "def run_tests(directory):\n",
    "    files = os.listdir(directory)\n",
    "    sorted_files = sorted(files, key=numerical_sort)\n",
    "\n",
    "    for file in sorted_files:\n",
    "        if file.endswith('.txt'):\n",
    "            filepath = os.path.join(directory, file)\n",
    "            print(f\"Running test {file}...\")\n",
    "\n",
    "            start_time = time.time()\n",
    "            graph = read_graph_from_file(filepath)\n",
    "            best_individual, index = genetic_algorithm(graph, \n",
    "                                                population_size=100,\n",
    "                                                num_generations=10,\n",
    "                                                tournament_size=7,\n",
    "                                                elitism_size=10,\n",
    "                                                mutation_prob=0.05)\n",
    "            end_time = time.time()\n",
    "\n",
    "            if best_individual == -100:\n",
    "                write_output(graph, file, None, index, start_time, end_time)\n",
    "            else:\n",
    "                write_output(graph, file, best_individual.coloring, index, start_time, end_time)     "
   ]
  },
  {
   "cell_type": "code",
   "execution_count": 16,
   "id": "e61909e8-0cf6-4873-a0c1-5d7d2cbf2482",
   "metadata": {},
   "outputs": [
    {
     "ename": "FileNotFoundError",
     "evalue": "[Errno 2] No such file or directory: './results/ga_results.txt'",
     "output_type": "error",
     "traceback": [
      "\u001b[0;31m---------------------------------------------------------------------------\u001b[0m",
      "\u001b[0;31mFileNotFoundError\u001b[0m                         Traceback (most recent call last)",
      "Cell \u001b[0;32mIn[16], line 1\u001b[0m\n\u001b[0;32m----> 1\u001b[0m \u001b[38;5;28;01mwith\u001b[39;00m \u001b[38;5;28;43mopen\u001b[39;49m\u001b[43m(\u001b[49m\u001b[38;5;124;43m'\u001b[39;49m\u001b[38;5;124;43m./results/ga_results.txt\u001b[39;49m\u001b[38;5;124;43m'\u001b[39;49m\u001b[43m,\u001b[49m\u001b[43m \u001b[49m\u001b[38;5;124;43m'\u001b[39;49m\u001b[38;5;124;43mw\u001b[39;49m\u001b[38;5;124;43m'\u001b[39;49m\u001b[43m)\u001b[49m \u001b[38;5;28;01mas\u001b[39;00m result_file:\n\u001b[1;32m      2\u001b[0m     result_file\u001b[38;5;241m.\u001b[39mwrite(\u001b[38;5;124m\"\u001b[39m\u001b[38;5;124m\"\u001b[39m)\n\u001b[1;32m      4\u001b[0m run_tests(\u001b[38;5;124m'\u001b[39m\u001b[38;5;124m./tests\u001b[39m\u001b[38;5;124m'\u001b[39m)\n",
      "File \u001b[0;32m~/.local/lib/python3.10/site-packages/IPython/core/interactiveshell.py:324\u001b[0m, in \u001b[0;36m_modified_open\u001b[0;34m(file, *args, **kwargs)\u001b[0m\n\u001b[1;32m    317\u001b[0m \u001b[38;5;28;01mif\u001b[39;00m file \u001b[38;5;129;01min\u001b[39;00m {\u001b[38;5;241m0\u001b[39m, \u001b[38;5;241m1\u001b[39m, \u001b[38;5;241m2\u001b[39m}:\n\u001b[1;32m    318\u001b[0m     \u001b[38;5;28;01mraise\u001b[39;00m \u001b[38;5;167;01mValueError\u001b[39;00m(\n\u001b[1;32m    319\u001b[0m         \u001b[38;5;124mf\u001b[39m\u001b[38;5;124m\"\u001b[39m\u001b[38;5;124mIPython won\u001b[39m\u001b[38;5;124m'\u001b[39m\u001b[38;5;124mt let you open fd=\u001b[39m\u001b[38;5;132;01m{\u001b[39;00mfile\u001b[38;5;132;01m}\u001b[39;00m\u001b[38;5;124m by default \u001b[39m\u001b[38;5;124m\"\u001b[39m\n\u001b[1;32m    320\u001b[0m         \u001b[38;5;124m\"\u001b[39m\u001b[38;5;124mas it is likely to crash IPython. If you know what you are doing, \u001b[39m\u001b[38;5;124m\"\u001b[39m\n\u001b[1;32m    321\u001b[0m         \u001b[38;5;124m\"\u001b[39m\u001b[38;5;124myou can use builtins\u001b[39m\u001b[38;5;124m'\u001b[39m\u001b[38;5;124m open.\u001b[39m\u001b[38;5;124m\"\u001b[39m\n\u001b[1;32m    322\u001b[0m     )\n\u001b[0;32m--> 324\u001b[0m \u001b[38;5;28;01mreturn\u001b[39;00m \u001b[43mio_open\u001b[49m\u001b[43m(\u001b[49m\u001b[43mfile\u001b[49m\u001b[43m,\u001b[49m\u001b[43m \u001b[49m\u001b[38;5;241;43m*\u001b[39;49m\u001b[43margs\u001b[49m\u001b[43m,\u001b[49m\u001b[43m \u001b[49m\u001b[38;5;241;43m*\u001b[39;49m\u001b[38;5;241;43m*\u001b[39;49m\u001b[43mkwargs\u001b[49m\u001b[43m)\u001b[49m\n",
      "\u001b[0;31mFileNotFoundError\u001b[0m: [Errno 2] No such file or directory: './results/ga_results.txt'"
     ]
    }
   ],
   "source": [
    "with open('./results/ga_results.txt', 'w') as result_file:\n",
    "    result_file.write(\"\")\n",
    "\n",
    "run_tests('./tests')"
   ]
  },
  {
   "cell_type": "code",
   "execution_count": null,
   "id": "4f1da40f-0f45-4788-9b37-ea829a23bbeb",
   "metadata": {},
   "outputs": [],
   "source": []
  },
  {
   "cell_type": "code",
   "execution_count": null,
   "id": "7caaf275-526e-4f8a-8cfe-0c7c2f60652a",
   "metadata": {},
   "outputs": [],
   "source": []
  }
 ],
 "metadata": {
  "kernelspec": {
   "display_name": "Python 3 (ipykernel)",
   "language": "python",
   "name": "python3"
  },
  "language_info": {
   "codemirror_mode": {
    "name": "ipython",
    "version": 3
   },
   "file_extension": ".py",
   "mimetype": "text/x-python",
   "name": "python",
   "nbconvert_exporter": "python",
   "pygments_lexer": "ipython3",
   "version": "3.10.12"
  }
 },
 "nbformat": 4,
 "nbformat_minor": 5
}
